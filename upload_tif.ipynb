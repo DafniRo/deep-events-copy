{
 "cells": [
  {
   "cell_type": "code",
   "execution_count": null,
   "metadata": {},
   "outputs": [],
   "source": [
    "from PIL import Image\n",
    "im = Image.open('a_image.tif')\n",
    "im.show()\n",
    "\n",
    " import numpy\n",
    "imarray = numpy.array(im)"
   ]
  },
  {
   "cell_type": "code",
   "execution_count": null,
   "metadata": {},
   "outputs": [],
   "source": [
    "imarray.shape   #shows matrix of array \n",
    "im.size   #image size\n",
    "#these need to match up so only run as a sanitycheck"
   ]
  },
  {
   "cell_type": "code",
   "execution_count": null,
   "metadata": {},
   "outputs": [],
   "source": [
    "Image.fromarray(imarray)\n",
    "<Image.Image image mode=L size=330x44 at 0x2786518>\n",
    "#this modifies the array back into an image in case you need to but change the dimensions 330x44"
   ]
  }
 ],
 "metadata": {
  "language_info": {
   "name": "python"
  },
  "orig_nbformat": 4
 },
 "nbformat": 4,
 "nbformat_minor": 2
}
