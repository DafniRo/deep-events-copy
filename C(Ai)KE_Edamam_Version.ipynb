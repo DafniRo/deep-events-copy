{
  "nbformat": 4,
  "nbformat_minor": 0,
  "metadata": {
    "colab": {
      "provenance": [],
      "include_colab_link": true
    },
    "kernelspec": {
      "name": "python3",
      "display_name": "Python 3"
    },
    "language_info": {
      "name": "python"
    }
  },
  "cells": [
    {
      "cell_type": "markdown",
      "metadata": {
        "id": "view-in-github",
        "colab_type": "text"
      },
      "source": [
        "<a href=\"https://colab.research.google.com/github/DafniRo/deep-events-copy/blob/main/C(Ai)KE_Edamam_Version.ipynb\" target=\"_parent\"><img src=\"https://colab.research.google.com/assets/colab-badge.svg\" alt=\"Open In Colab\"/></a>"
      ]
    },
    {
      "cell_type": "code",
      "execution_count": null,
      "metadata": {
        "id": "uR7yoJcLJgSj"
      },
      "outputs": [],
      "source": [
        "import requests\n",
        "import json\n",
        "\n",
        "# API\n",
        "API_URL = \"https://api.edamam.com/search\"\n",
        "\n",
        "def suggest_recipe(ingredients, app_id, app_key, dietary_preferences):\n",
        "    ingredients_str = ','.join(ingredients)\n",
        "    query_params = {\n",
        "        'q': ingredients_str,\n",
        "        'app_id': app_id,\n",
        "        'app_key': app_key\n",
        "    }\n",
        "    if dietary_preferences:\n",
        "        query_params['health'] = ','.join(dietary_preferences)\n",
        "    response = requests.get(API_URL, params=query_params)\n",
        "    if response.status_code != 200:\n",
        "        raise Exception(\"Failed to fetch recipes\")\n",
        "    response_json = response.json()\n",
        "    recipes = response_json['hits']\n",
        "    return recipes\n",
        "\n",
        "def main():\n",
        "    # Edamam API id and key\n",
        "    app_id = \"4ba914f4\"\n",
        "    app_key = \"2496a27507075c06755af5c64bdcde9f\"\n",
        "\n",
        "    # Ask the user for diet\n",
        "    dietary_preferences = []\n",
        "    is_vegetarian = input(\"Are you a Vegetarian mate? (yes/no) \").lower() == 'yes'\n",
        "    if is_vegetarian:\n",
        "        dietary_preferences.append('vegetarian')\n",
        "    is_vegan = input(\"Maybe a Vegan? (yes/no) \").lower() == 'yes'\n",
        "    if is_vegan:\n",
        "        dietary_preferences.append('vegan')\n",
        "    is_pescetarian = input(\"You're a Pescetarian aren't you ay? (yes/no) \").lower() == 'yes'\n",
        "    if is_pescetarian:\n",
        "        dietary_preferences.append('pescetarian')\n",
        "\n",
        "    # Ask the user for ingredients\n",
        "    ingredients = input(\"Tell me what ingredients you have, if you have any that is. Separated by commas please, I'm dumb. : \").split(',')\n",
        "    ingredients = [ingredient.strip() for ingredient in ingredients]\n",
        "\n",
        "    # Recipes based on the ingredients\n",
        "    recipes = suggest_recipe(ingredients, app_id, app_key, dietary_preferences)\n",
        "    if not recipes:\n",
        "        print(\"No recipes found.\")\n",
        "    else:\n",
        "        print(\"Here are your recipes then, Idiot. :\")\n",
        "        for recipe in recipes:\n",
        "            author = recipe['recipe'].get('source', 'Unknown')\n",
        "            print(f\"- {recipe['recipe']['label']} by {author}\")\n",
        "            print(f\"  Link: {recipe['recipe']['url']}\")\n",
        "\n",
        "if __name__ == '__main__':\n",
        "    main()\n"
      ]
    },
    {
      "cell_type": "code",
      "source": [
        "dietary_preferences = []\n",
        "DIET = input(\"Do you have any dietary restrictions? (yes/no) \").lower()\n",
        "if DIET == 'yes':\n",
        "    while True:\n",
        "       #if this is the first time the program runs it will ask dietary retrictions (the else statment is explained later)\n",
        "        if len(dietary_preferences)==0:\n",
        "            dietary_req = input(\"What are your dietary restrictions? (you can add more than one) \").lower()\n",
        "        else: \n",
        "            dietary_req = input(\"You have one more chance to properly spell the ones you missed/forgot \").lower()\n",
        "\n",
        "        # these if statements will append the relevant restrictions even if the user writes \"vegetarian, vegan and I guess pescatarian\"\n",
        "        if 'vegetarian' in dietary_req.lower():\n",
        "            dietary_preferences.append('vegetarian')\n",
        "        if 'vegan' in dietary_req.lower():\n",
        "            dietary_preferences.append('vegan')\n",
        "        if 'pescatarian' in dietary_req.lower():\n",
        "            dietary_preferences.append('pescetarian')\n",
        "        if 'halal' in dietary_req.lower():\n",
        "            dietary_preferences.append('halal')\n",
        "        if 'lactose' in dietary_req.lower():\n",
        "            dietary_preferences.append('lactose free')\n",
        "        #there are ike 5-10 more we can add\n",
        "\n",
        "        # now if a few have already been added, we will be double checking in case the user made a spelling mistake \n",
        "        if len(dietary_preferences)>0:\n",
        "          print('Dietary restrictions:', dietary_preferences)\n",
        "          correction = input(\"Just to confirm, your restrictions are the above? \").lower()\n",
        "          # if the user confirms that these are their only restrictions, we exit the while statement and go do the API search\n",
        "          # if not this sends the user to the start of the while statement and since this has appended some preferences, it will run the else statement at the top\n",
        "          if 'maybe' in correction:\n",
        "              print('TI MAYBE RE MPAGLAMA? RE FIGE RE MALAKA APO DO RE BRO')\n",
        "              dietary_preferences=[]\n",
        "              print('otan eisai malakas den sou dinoume options')\n",
        "              break\n",
        "          elif 'ye' or 'yup' or 'ya' in correction:\n",
        "              print('Perfect! Dietary restrictions:', dietary_preferences)\n",
        "              break\n",
        "         \n",
        "        # finally if the user didn't add any/ fucked up the spelling of all, we INSULT THEM\n",
        "        else: \n",
        "            print('Dietary restriction not found! We either not have it in the system or you suck at spelling IDIOT, please try again')\n",
        "elif DIET == 'no':\n",
        "  dietary_preferences = ['none']\n",
        "  print('Alright bet. Dietary restrictions:', dietary_preferences)\n",
        "else: \n",
        "  print('Are you illiterate? I said YES/NO')"
      ],
      "metadata": {
        "id": "3kDgF16M3D8Y",
        "colab": {
          "base_uri": "https://localhost:8080/",
          "height": 380
        },
        "outputId": "abeda277-72d1-41d5-a6d7-95115d0ab612"
      },
      "execution_count": 26,
      "outputs": [
        {
          "output_type": "error",
          "ename": "KeyboardInterrupt",
          "evalue": "ignored",
          "traceback": [
            "\u001b[0;31m---------------------------------------------------------------------------\u001b[0m",
            "\u001b[0;31mKeyboardInterrupt\u001b[0m                         Traceback (most recent call last)",
            "\u001b[0;32m<ipython-input-26-6543a2809746>\u001b[0m in \u001b[0;36m<module>\u001b[0;34m\u001b[0m\n\u001b[1;32m      1\u001b[0m \u001b[0mdietary_preferences\u001b[0m \u001b[0;34m=\u001b[0m \u001b[0;34m[\u001b[0m\u001b[0;34m]\u001b[0m\u001b[0;34m\u001b[0m\u001b[0;34m\u001b[0m\u001b[0m\n\u001b[0;32m----> 2\u001b[0;31m \u001b[0mDIET\u001b[0m \u001b[0;34m=\u001b[0m \u001b[0minput\u001b[0m\u001b[0;34m(\u001b[0m\u001b[0;34m\"Do you have any dietary restrictions? (yes/no) \"\u001b[0m\u001b[0;34m)\u001b[0m\u001b[0;34m.\u001b[0m\u001b[0mlower\u001b[0m\u001b[0;34m(\u001b[0m\u001b[0;34m)\u001b[0m\u001b[0;34m\u001b[0m\u001b[0;34m\u001b[0m\u001b[0m\n\u001b[0m\u001b[1;32m      3\u001b[0m \u001b[0;32mif\u001b[0m \u001b[0mDIET\u001b[0m \u001b[0;34m==\u001b[0m \u001b[0;34m'yes'\u001b[0m\u001b[0;34m:\u001b[0m\u001b[0;34m\u001b[0m\u001b[0;34m\u001b[0m\u001b[0m\n\u001b[1;32m      4\u001b[0m     \u001b[0;32mwhile\u001b[0m \u001b[0;32mTrue\u001b[0m\u001b[0;34m:\u001b[0m\u001b[0;34m\u001b[0m\u001b[0;34m\u001b[0m\u001b[0m\n\u001b[1;32m      5\u001b[0m        \u001b[0;31m#if this is the first time the program runs it will ask dietary retrictions (the else statment is explained later)\u001b[0m\u001b[0;34m\u001b[0m\u001b[0;34m\u001b[0m\u001b[0;34m\u001b[0m\u001b[0m\n",
            "\u001b[0;32m/usr/local/lib/python3.8/dist-packages/ipykernel/kernelbase.py\u001b[0m in \u001b[0;36mraw_input\u001b[0;34m(self, prompt)\u001b[0m\n\u001b[1;32m    858\u001b[0m                 \u001b[0;34m\"raw_input was called, but this frontend does not support input requests.\"\u001b[0m\u001b[0;34m\u001b[0m\u001b[0;34m\u001b[0m\u001b[0m\n\u001b[1;32m    859\u001b[0m             )\n\u001b[0;32m--> 860\u001b[0;31m         return self._input_request(str(prompt),\n\u001b[0m\u001b[1;32m    861\u001b[0m             \u001b[0mself\u001b[0m\u001b[0;34m.\u001b[0m\u001b[0m_parent_ident\u001b[0m\u001b[0;34m,\u001b[0m\u001b[0;34m\u001b[0m\u001b[0;34m\u001b[0m\u001b[0m\n\u001b[1;32m    862\u001b[0m             \u001b[0mself\u001b[0m\u001b[0;34m.\u001b[0m\u001b[0m_parent_header\u001b[0m\u001b[0;34m,\u001b[0m\u001b[0;34m\u001b[0m\u001b[0;34m\u001b[0m\u001b[0m\n",
            "\u001b[0;32m/usr/local/lib/python3.8/dist-packages/ipykernel/kernelbase.py\u001b[0m in \u001b[0;36m_input_request\u001b[0;34m(self, prompt, ident, parent, password)\u001b[0m\n\u001b[1;32m    902\u001b[0m             \u001b[0;32mexcept\u001b[0m \u001b[0mKeyboardInterrupt\u001b[0m\u001b[0;34m:\u001b[0m\u001b[0;34m\u001b[0m\u001b[0;34m\u001b[0m\u001b[0m\n\u001b[1;32m    903\u001b[0m                 \u001b[0;31m# re-raise KeyboardInterrupt, to truncate traceback\u001b[0m\u001b[0;34m\u001b[0m\u001b[0;34m\u001b[0m\u001b[0;34m\u001b[0m\u001b[0m\n\u001b[0;32m--> 904\u001b[0;31m                 \u001b[0;32mraise\u001b[0m \u001b[0mKeyboardInterrupt\u001b[0m\u001b[0;34m(\u001b[0m\u001b[0;34m\"Interrupted by user\"\u001b[0m\u001b[0;34m)\u001b[0m \u001b[0;32mfrom\u001b[0m \u001b[0;32mNone\u001b[0m\u001b[0;34m\u001b[0m\u001b[0;34m\u001b[0m\u001b[0m\n\u001b[0m\u001b[1;32m    905\u001b[0m             \u001b[0;32mexcept\u001b[0m \u001b[0mException\u001b[0m \u001b[0;32mas\u001b[0m \u001b[0me\u001b[0m\u001b[0;34m:\u001b[0m\u001b[0;34m\u001b[0m\u001b[0;34m\u001b[0m\u001b[0m\n\u001b[1;32m    906\u001b[0m                 \u001b[0mself\u001b[0m\u001b[0;34m.\u001b[0m\u001b[0mlog\u001b[0m\u001b[0;34m.\u001b[0m\u001b[0mwarning\u001b[0m\u001b[0;34m(\u001b[0m\u001b[0;34m\"Invalid Message:\"\u001b[0m\u001b[0;34m,\u001b[0m \u001b[0mexc_info\u001b[0m\u001b[0;34m=\u001b[0m\u001b[0;32mTrue\u001b[0m\u001b[0;34m)\u001b[0m\u001b[0;34m\u001b[0m\u001b[0;34m\u001b[0m\u001b[0m\n",
            "\u001b[0;31mKeyboardInterrupt\u001b[0m: Interrupted by user"
          ]
        }
      ]
    },
    {
      "cell_type": "code",
      "source": [],
      "metadata": {
        "id": "cx_aaBM33F9x"
      },
      "execution_count": null,
      "outputs": []
    }
  ]
}